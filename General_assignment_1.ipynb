{
 "cells": [
  {
   "cell_type": "code",
   "execution_count": null,
   "id": "a7fd3107",
   "metadata": {},
   "outputs": [],
   "source": [
    "#question 1\n",
    "Values are     :'hello',-87.8,6\n",
    "Expressions are:*,-,/,+"
   ]
  },
  {
   "cell_type": "code",
   "execution_count": null,
   "id": "86c268b1",
   "metadata": {},
   "outputs": [],
   "source": [
    "#Question 2\n",
    "String :It is one typeof datatype and you can store a string in variable. \n",
    "Variable:A variable is the one which stores the information anad it stores any datatype."
   ]
  },
  {
   "cell_type": "code",
   "execution_count": null,
   "id": "a64ea40f",
   "metadata": {},
   "outputs": [],
   "source": [
    "#Question 3\n",
    "Three different datatypes are int,float,boolean\n",
    "int : It is a type of datatype which stores negative number as well as positive number in a particular range. \n",
    "eg:-234,23,45,-5889,590876\n",
    "float : It is a type of datatype which can store negative number as well as positive number but it must have a decimal point.\n",
    "eg:-2.3,0.9,7.896,6785.23,-654.876\n",
    "boolean : It is a type of datatype which represents one of the two values true or false.\n",
    "eg:True,False"
   ]
  },
  {
   "cell_type": "code",
   "execution_count": null,
   "id": "2a6b219b",
   "metadata": {},
   "outputs": [],
   "source": [
    "#Question 4\n",
    "An expression is a construct made up of variables, operators, and method invocations, which are constructed according to the\n",
    "syntax of the language, that evaluates to a single value."
   ]
  },
  {
   "cell_type": "code",
   "execution_count": null,
   "id": "0284be8a",
   "metadata": {},
   "outputs": [],
   "source": [
    "#Question 5\n",
    "Here spam = 10 is a assignment statement in this spam is a variable and it stores 10 value in it.\n",
    "Expression means it is a combination of operators and operands that is interpreted to produce some other value.\n",
    "eg:output = spam*spam -5 +2\n",
    "The above is the expression which gives a value or solution by solving it.The above expression gives a value 97.\n",
    "97 stores in the output."
   ]
  },
  {
   "cell_type": "code",
   "execution_count": 1,
   "id": "7b31061e",
   "metadata": {},
   "outputs": [
    {
     "data": {
      "text/plain": [
       "23"
      ]
     },
     "execution_count": 1,
     "metadata": {},
     "output_type": "execute_result"
    }
   ],
   "source": [
    "#Question 6 \n",
    "bacon = 22\n",
    "bacon + 1"
   ]
  },
  {
   "cell_type": "code",
   "execution_count": 2,
   "id": "5eb6efbe",
   "metadata": {},
   "outputs": [
    {
     "data": {
      "text/plain": [
       "'spamspamspam'"
      ]
     },
     "execution_count": 2,
     "metadata": {},
     "output_type": "execute_result"
    }
   ],
   "source": [
    "#Question 7\n",
    "'spam'+'spamspam'"
   ]
  },
  {
   "cell_type": "code",
   "execution_count": 3,
   "id": "9358fe48",
   "metadata": {},
   "outputs": [
    {
     "data": {
      "text/plain": [
       "'spamspamspam'"
      ]
     },
     "execution_count": 3,
     "metadata": {},
     "output_type": "execute_result"
    }
   ],
   "source": [
    "#Question 7\n",
    "'spam'*3\n",
    "#here both gives same output the first one is concatenats the two words and here below one multiplies the word,both shows same output.   "
   ]
  },
  {
   "cell_type": "code",
   "execution_count": null,
   "id": "5d102a85",
   "metadata": {},
   "outputs": [],
   "source": [
    "#Question 8\n",
    "eggs - here eggs is a valid variable name because it has all things a variable must have, like it doesnot have special characters and \n",
    "it is not starting with the number,etc.\n",
    "100 - Here 100 cannot be a variable name because it is a value and a int datatype.\n"
   ]
  },
  {
   "cell_type": "code",
   "execution_count": 6,
   "id": "a080b8ee",
   "metadata": {},
   "outputs": [
    {
     "data": {
      "text/plain": [
       "10"
      ]
     },
     "execution_count": 6,
     "metadata": {},
     "output_type": "execute_result"
    }
   ],
   "source": [
    "#Question 9 - int() function\n",
    "a = '10'\n",
    "int(a)"
   ]
  },
  {
   "cell_type": "code",
   "execution_count": 7,
   "id": "f138fd86",
   "metadata": {},
   "outputs": [
    {
     "data": {
      "text/plain": [
       "10.0"
      ]
     },
     "execution_count": 7,
     "metadata": {},
     "output_type": "execute_result"
    }
   ],
   "source": [
    "#Question 9 - float() function\n",
    "a = '10'\n",
    "float(a)"
   ]
  },
  {
   "cell_type": "code",
   "execution_count": 10,
   "id": "e32ade22",
   "metadata": {},
   "outputs": [
    {
     "ename": "TypeError",
     "evalue": "can only concatenate str (not \"int\") to str",
     "output_type": "error",
     "traceback": [
      "\u001b[1;31m---------------------------------------------------------------------------\u001b[0m",
      "\u001b[1;31mTypeError\u001b[0m                                 Traceback (most recent call last)",
      "Input \u001b[1;32mIn [10]\u001b[0m, in \u001b[0;36m<cell line: 2>\u001b[1;34m()\u001b[0m\n\u001b[0;32m      1\u001b[0m \u001b[38;5;66;03m#Question 10\u001b[39;00m\n\u001b[1;32m----> 2\u001b[0m \u001b[38;5;124;43m'\u001b[39;49m\u001b[38;5;124;43mI have eaten\u001b[39;49m\u001b[38;5;124;43m'\u001b[39;49m\u001b[38;5;241;43m+\u001b[39;49m\u001b[38;5;241;43m99\u001b[39;49m\u001b[38;5;241m+\u001b[39m\u001b[38;5;124m'\u001b[39m\u001b[38;5;124mburritos.\u001b[39m\u001b[38;5;124m'\u001b[39m\n",
      "\u001b[1;31mTypeError\u001b[0m: can only concatenate str (not \"int\") to str"
     ]
    }
   ],
   "source": [
    "#Question 10\n",
    "'I have eaten '+99+' burritos.'\n",
    "#Here it won't work because 99 is not in string type and it won't concatenate."
   ]
  },
  {
   "cell_type": "code",
   "execution_count": 11,
   "id": "e1800be0",
   "metadata": {},
   "outputs": [
    {
     "data": {
      "text/plain": [
       "'I have eaten 99 burritos.'"
      ]
     },
     "execution_count": 11,
     "metadata": {},
     "output_type": "execute_result"
    }
   ],
   "source": [
    "#Question 10\n",
    "'I have eaten '+'99'+' burritos.'\n",
    "#here we can fix it by making 99 to string by declaring in the single quotes then it will concatenates and give output."
   ]
  }
 ],
 "metadata": {
  "kernelspec": {
   "display_name": "Python 3 (ipykernel)",
   "language": "python",
   "name": "python3"
  },
  "language_info": {
   "codemirror_mode": {
    "name": "ipython",
    "version": 3
   },
   "file_extension": ".py",
   "mimetype": "text/x-python",
   "name": "python",
   "nbconvert_exporter": "python",
   "pygments_lexer": "ipython3",
   "version": "3.9.12"
  }
 },
 "nbformat": 4,
 "nbformat_minor": 5
}
