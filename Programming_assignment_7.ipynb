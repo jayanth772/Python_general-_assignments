{
 "cells": [
  {
   "cell_type": "code",
   "execution_count": 5,
   "id": "66bc7878",
   "metadata": {},
   "outputs": [
    {
     "name": "stdout",
     "output_type": "stream",
     "text": [
      "Enter the n value5\n",
      "enter 0th value:1\n",
      "enter 1th value:2\n",
      "enter 2th value:3\n",
      "enter 3th value:4\n",
      "enter 4th value:5\n",
      "Sum of array is 15\n"
     ]
    }
   ],
   "source": [
    "#1. Write a Python Program to find sum of array?\n",
    "l=[]\n",
    "n=int(input(\"Enter the n value\"))\n",
    "sum=0\n",
    "for i in range(n):\n",
    "    l.append(int(input(f\"enter {i}th value:\")))\n",
    "    sum=sum+l[i]\n",
    "print(f\"Sum of array is {sum}\")\n"
   ]
  },
  {
   "cell_type": "code",
   "execution_count": 9,
   "id": "62640bae",
   "metadata": {},
   "outputs": [
    {
     "name": "stdout",
     "output_type": "stream",
     "text": [
      "Enter the n value5\n",
      "enter 0th value:22\n",
      "enter 1th value:12\n",
      "enter 2th value:-23\n",
      "enter 3th value:21\n",
      "enter 4th value:56\n",
      "large element in the array is 56\n"
     ]
    }
   ],
   "source": [
    "#2.Write a Python Program to find largest element in an array?\n",
    "l=[]\n",
    "n=int(input(\"Enter the n value\"))\n",
    "lar=0\n",
    "for i in range(n):\n",
    "    l.append(int(input(f\"enter {i}th value:\")))\n",
    "    if i==0:\n",
    "        lar=l[i]\n",
    "    elif l[i]>lar:\n",
    "        lar=l[i]\n",
    "print(f\"large element in the array is {lar}\")\n"
   ]
  },
  {
   "cell_type": "code",
   "execution_count": 12,
   "id": "6554243e",
   "metadata": {},
   "outputs": [
    {
     "name": "stdout",
     "output_type": "stream",
     "text": [
      "Enter the n value10\n",
      "enter how many numbers have to shift:3\n",
      "enter 0th value:1\n",
      "enter 1th value:2\n",
      "enter 2th value:3\n",
      "enter 3th value:4\n",
      "enter 4th value:5\n",
      "enter 5th value:6\n",
      "enter 6th value:7\n",
      "enter 7th value:8\n",
      "enter 8th value:9\n",
      "enter 9th value:10\n",
      "new array is [4, 5, 6, 7, 8, 9, 10, 1, 2, 3]\n"
     ]
    }
   ],
   "source": [
    "#3. Write a Python Program for array rotation?\n",
    "l=[]\n",
    "n=int(input(\"Enter the n value\"))\n",
    "rot=int(input(\"enter how many numbers have to shift:\"))\n",
    "for i in range(n):\n",
    "    l.append(int(input(f\"enter {i}th value:\")))\n",
    "arr1=[]\n",
    "k=0\n",
    "for i in range(n):\n",
    "    if i+rot<n:\n",
    "        arr1.append(l[i+rot])\n",
    "    elif k<rot:\n",
    "        arr1.append(l[k])\n",
    "        k=k+1\n",
    "print(f\"new array is {arr1}\")\n",
    "        \n",
    "        "
   ]
  },
  {
   "cell_type": "code",
   "execution_count": 25,
   "id": "740746c3",
   "metadata": {},
   "outputs": [
    {
     "name": "stdout",
     "output_type": "stream",
     "text": [
      "New array is [6, 7, 8, 9, 10, 1, 2, 3, 4, 5]\n"
     ]
    }
   ],
   "source": [
    "#4. Write a Python Program to Split the array and add the first part to the end?\n",
    "l=[1,2,3,4,5,6,7,8,9,10]\n",
    "k=int(len(l)/2)\n",
    "arr1=[]\n",
    "for i in range(k):\n",
    "    arr1.append(l[i])\n",
    "for i in arr1:\n",
    "    l.remove(i)\n",
    "l.extend(arr1)\n",
    "print(f\"New array is {l}\")"
   ]
  },
  {
   "cell_type": "code",
   "execution_count": 39,
   "id": "49e7fe4f",
   "metadata": {},
   "outputs": [
    {
     "name": "stdout",
     "output_type": "stream",
     "text": [
      "Given array is not monolithic\n"
     ]
    }
   ],
   "source": [
    "#5. Write a Python Program to check if given array is Monotonic?\n",
    "#Monolithic--monlithic is two two types monolithic decreasing and monolithic increasing\n",
    "#Monolithic decreasing--Here numbers must decrease or remain same number in order from starting to ending\n",
    "#eg:[6,5,4,4],[90,89]\n",
    "#Monolithic increasing--Here numbers must increase or remain same number in order from starting to ending\n",
    "l=[6,3,3,2,-1,0,0-29,-98]\n",
    "x,y=[],[]\n",
    "x.extend(l)\n",
    "y.extend(l)\n",
    "x.sort()\n",
    "y.sort(reverse=True)\n",
    "if (x==l or y==l):\n",
    "    print(\"given array is monolithic\")\n",
    "else:\n",
    "    print(\"Given array is not monolithic\")\n",
    "        "
   ]
  },
  {
   "cell_type": "code",
   "execution_count": null,
   "id": "2d7d9edc",
   "metadata": {},
   "outputs": [],
   "source": []
  }
 ],
 "metadata": {
  "kernelspec": {
   "display_name": "Python 3 (ipykernel)",
   "language": "python",
   "name": "python3"
  },
  "language_info": {
   "codemirror_mode": {
    "name": "ipython",
    "version": 3
   },
   "file_extension": ".py",
   "mimetype": "text/x-python",
   "name": "python",
   "nbconvert_exporter": "python",
   "pygments_lexer": "ipython3",
   "version": "3.10.9"
  }
 },
 "nbformat": 4,
 "nbformat_minor": 5
}
