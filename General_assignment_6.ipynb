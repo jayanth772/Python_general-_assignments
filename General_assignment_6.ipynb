{
 "cells": [
  {
   "cell_type": "code",
   "execution_count": 6,
   "id": "7978cd5b",
   "metadata": {},
   "outputs": [],
   "source": [
    "#Question1\n",
    "Escape characters:Escape characters or sequences are are illegal characters for python and never get printed in the output.\n",
    "Use:Use the backslash character to escape a single character or symbol"
   ]
  },
  {
   "cell_type": "code",
   "execution_count": 8,
   "id": "cb054acd",
   "metadata": {},
   "outputs": [
    {
     "name": "stdout",
     "output_type": "stream",
     "text": [
      "jayanth\n",
      "bonala\n"
     ]
    }
   ],
   "source": [
    "#Question2\n",
    "#Escape character n stands for new line\n",
    "print(\"jayanth\\nbonala\")#prints jayanth and bonala in seperate lines"
   ]
  },
  {
   "cell_type": "code",
   "execution_count": 9,
   "id": "def12599",
   "metadata": {},
   "outputs": [
    {
     "name": "stdout",
     "output_type": "stream",
     "text": [
      "jayanth\tbonala\n"
     ]
    }
   ],
   "source": [
    "#Question2\n",
    "#Escape character t stands for tab space\n",
    "print(\"jayanth\\tbonala\")#prints jayanth and bonala in tab space"
   ]
  },
  {
   "cell_type": "code",
   "execution_count": null,
   "id": "02b8282b",
   "metadata": {},
   "outputs": [],
   "source": [
    "#Question3\n",
    "use '\\' infront of the character you want to use as in the above example for n and t as \\n and \\t"
   ]
  },
  {
   "cell_type": "code",
   "execution_count": 13,
   "id": "8c041bdd",
   "metadata": {},
   "outputs": [
    {
     "data": {
      "text/plain": [
       "\"Howl's Moving castle\""
      ]
     },
     "execution_count": 13,
     "metadata": {},
     "output_type": "execute_result"
    }
   ],
   "source": [
    "#Question4\n",
    "a=\"Howl's Moving castle\"\n",
    "a\n",
    "#Here we used double quotes(\") to avoid the confusion for the interpretor then it won't be a problem "
   ]
  },
  {
   "cell_type": "code",
   "execution_count": 14,
   "id": "65f93b1e",
   "metadata": {},
   "outputs": [
    {
     "ename": "SyntaxError",
     "evalue": "invalid syntax (628235869.py, line 1)",
     "output_type": "error",
     "traceback": [
      "\u001b[1;36m  Input \u001b[1;32mIn [14]\u001b[1;36m\u001b[0m\n\u001b[1;33m    b='Howl's Moving castle'\u001b[0m\n\u001b[1;37m            ^\u001b[0m\n\u001b[1;31mSyntaxError\u001b[0m\u001b[1;31m:\u001b[0m invalid syntax\n"
     ]
    }
   ],
   "source": [
    "b='Howl's Moving castle'\n",
    "b\n",
    "#Here we used single quotes('') to store so there is a confusion for interpretor so it throws a error"
   ]
  },
  {
   "cell_type": "code",
   "execution_count": 5,
   "id": "d503ad49",
   "metadata": {},
   "outputs": [
    {
     "name": "stdout",
     "output_type": "stream",
     "text": [
      "\n",
      "hello\n"
     ]
    }
   ],
   "source": [
    "#Question5-without using n character we can directly write as below.\n",
    "print()\n",
    "print(\"hello\")"
   ]
  },
  {
   "cell_type": "code",
   "execution_count": 15,
   "id": "5537de6d",
   "metadata": {},
   "outputs": [
    {
     "name": "stdout",
     "output_type": "stream",
     "text": [
      "e\n",
      "Hello\n",
      "Hello\n",
      "lo,World!\n"
     ]
    }
   ],
   "source": [
    "#Question6\n",
    "s='Hello,World!'\n",
    "print(s[1])\n",
    "print(s[0:5])\n",
    "print(s[:5])\n",
    "print(s[3:])"
   ]
  },
  {
   "cell_type": "code",
   "execution_count": 16,
   "id": "580ac4c1",
   "metadata": {},
   "outputs": [
    {
     "name": "stdout",
     "output_type": "stream",
     "text": [
      "HELLO\n",
      "True\n",
      "hello\n"
     ]
    }
   ],
   "source": [
    "#Question7\n",
    "print('Hello'.upper())\n",
    "print('Hello'.upper().isupper())\n",
    "print('Hello'.upper().lower())\n"
   ]
  },
  {
   "cell_type": "code",
   "execution_count": 19,
   "id": "bfbe8079",
   "metadata": {},
   "outputs": [
    {
     "data": {
      "text/plain": [
       "['Remember,', 'remember,', 'the', 'fifth', 'of', 'july']"
      ]
     },
     "execution_count": 19,
     "metadata": {},
     "output_type": "execute_result"
    }
   ],
   "source": [
    "#Question8\n",
    "'Remember, remember, the fifth of july'.split()"
   ]
  },
  {
   "cell_type": "code",
   "execution_count": 18,
   "id": "8eda16b7",
   "metadata": {},
   "outputs": [
    {
     "data": {
      "text/plain": [
       "'There-can-only-one'"
      ]
     },
     "execution_count": 18,
     "metadata": {},
     "output_type": "execute_result"
    }
   ],
   "source": [
    "'-'.join('There can only one'.split())"
   ]
  },
  {
   "cell_type": "code",
   "execution_count": 1,
   "id": "663b8453",
   "metadata": {},
   "outputs": [
    {
     "name": "stdout",
     "output_type": "stream",
     "text": [
      "----------Jupyter for python programming\n",
      "Jupyter for python programming----------\n",
      "-----Jupyter for python programming-----\n"
     ]
    }
   ],
   "source": [
    "#Question9\n",
    "#right-justifying(rjust(len,fillchar)):This function right aligns the test and fills the remains space with the fillchar.\n",
    "#left-justyfying(ljust(Len,fillchar)):This function left aligns the text and fills the remians space with the fillchar.\n",
    "#center-justyfying(center(Len,fillchar)):This function center aligns the text and fills the remaining space of left and right of \n",
    "#text with fillchar\n",
    "a=\"Jupyter for python programming\"\n",
    "print(a.rjust(40,'-'))\n",
    "print(a.ljust(40,'-'))\n",
    "print(a.center(40,'-'))"
   ]
  },
  {
   "cell_type": "code",
   "execution_count": 3,
   "id": "46c70983",
   "metadata": {},
   "outputs": [
    {
     "name": "stdout",
     "output_type": "stream",
     "text": [
      "Hello\n",
      "Hello      hi!\n",
      "     Hello\n"
     ]
    }
   ],
   "source": [
    "#Question10\n",
    "#To remove the white spaces from begining to end we have to use .strip()\n",
    "#If we have to remove white spaces at begining or at left we have to use .lstrip()\n",
    "#If we have to remove white spaces at end or at right we have to use .rstrip()\n",
    "t=\"     Hello     \"\n",
    "print(t.strip(\" \"))\n",
    "print(t.lstrip(\" \"),\"hi!\")#Here you will see the spaces between hello and hi as it not removes white spaces at end\n",
    "print(t.rstrip(\" \"))"
   ]
  },
  {
   "cell_type": "code",
   "execution_count": null,
   "id": "037792bb",
   "metadata": {},
   "outputs": [],
   "source": []
  }
 ],
 "metadata": {
  "kernelspec": {
   "display_name": "Python 3 (ipykernel)",
   "language": "python",
   "name": "python3"
  },
  "language_info": {
   "codemirror_mode": {
    "name": "ipython",
    "version": 3
   },
   "file_extension": ".py",
   "mimetype": "text/x-python",
   "name": "python",
   "nbconvert_exporter": "python",
   "pygments_lexer": "ipython3",
   "version": "3.9.12"
  }
 },
 "nbformat": 4,
 "nbformat_minor": 5
}
