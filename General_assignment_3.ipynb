{
 "cells": [
  {
   "cell_type": "code",
   "execution_count": null,
   "id": "3a728303",
   "metadata": {},
   "outputs": [],
   "source": [
    "#1. Why are functions advantageous to have in your programs?\n",
    "Functions are advantageous because by using functions we can reuse a part of the code by not writing everytime we want,just by calling\n",
    "it we can use."
   ]
  },
  {
   "cell_type": "code",
   "execution_count": null,
   "id": "ab6e80b7",
   "metadata": {},
   "outputs": [],
   "source": [
    "#2. When does the code in a function run: when it's specified or when it's called?\n",
    "By calling the function the code inside starts run not by just writing the function.\n"
   ]
  },
  {
   "cell_type": "code",
   "execution_count": null,
   "id": "4b0c257e",
   "metadata": {},
   "outputs": [],
   "source": [
    "#3. What statement creates a function?\n",
    "By using 'def' we can create a function.\n",
    "eg:def sum():\n",
    "        a=b+c\n",
    "        return a"
   ]
  },
  {
   "cell_type": "code",
   "execution_count": null,
   "id": "90dcd79d",
   "metadata": {},
   "outputs": [],
   "source": [
    "#4. What is the difference between a function and a function call?\n",
    "Function: A function is a block of code which does a operation and return the value.\n",
    "eg:def sum(int b,int c):\n",
    "        a=b+c\n",
    "        return a\n",
    "Function call:A function call is the code used to pass control to a function.\n",
    "eg:out = sum(4,5)"
   ]
  },
  {
   "cell_type": "code",
   "execution_count": null,
   "id": "94fd628b",
   "metadata": {},
   "outputs": [],
   "source": [
    "#5. How many global scopes are there in a Python program? How many local scopes?\n",
    "There is only one global Python scope per program execution. This scope remains in existence until the program terminates\n",
    "and all its names are forgotten."
   ]
  },
  {
   "cell_type": "code",
   "execution_count": null,
   "id": "871d5236",
   "metadata": {},
   "outputs": [],
   "source": [
    "#6. What happens to variables in a local scope when the function call returns?\n",
    "Local variables are created when a function starts, and deleted when the function is completed."
   ]
  },
  {
   "cell_type": "code",
   "execution_count": null,
   "id": "ae1ae67c",
   "metadata": {},
   "outputs": [],
   "source": [
    "#7. What is the concept of a return value? Is it possible to have a return value in an expression?\n",
    "A return is a value that a function returns to the calling script or function when it completes its task.\n",
    "yes it is posiible to return the value in an expression.You can see in the below example\n",
    "eg:\n",
    "def sum(a,b):\n",
    "    return a+b\n",
    "print(sum(\"jay\",'anth'))"
   ]
  },
  {
   "cell_type": "code",
   "execution_count": 2,
   "id": "de13da6c",
   "metadata": {},
   "outputs": [
    {
     "name": "stdout",
     "output_type": "stream",
     "text": [
      "jayanth\n"
     ]
    }
   ],
   "source": [
    "def sum(a,b):\n",
    "    return a+b\n",
    "print(sum(\"jay\",\"anth\"))"
   ]
  },
  {
   "cell_type": "code",
   "execution_count": null,
   "id": "31d874bb",
   "metadata": {},
   "outputs": [],
   "source": [
    "#8. If a function does not have a return statement, what is the return value of a call to that function?\n",
    "So, if you dont explicitly use a return value in a return statement, or if you totally omit the return statement, \n",
    "then Python will implicitly return a default value for you. That default return value will always be None.\n",
    "see in the below example"
   ]
  },
  {
   "cell_type": "code",
   "execution_count": 3,
   "id": "8c4379ff",
   "metadata": {},
   "outputs": [
    {
     "name": "stdout",
     "output_type": "stream",
     "text": [
      "None\n"
     ]
    }
   ],
   "source": [
    "def sum(a,b):\n",
    "    a+b\n",
    "print(sum(\"jay\",\"anth\"))"
   ]
  },
  {
   "cell_type": "code",
   "execution_count": null,
   "id": "330318a3",
   "metadata": {},
   "outputs": [],
   "source": [
    "#9. How do you make a function variable refer to the global variable?\n",
    "If i write a varaiable inside a function then the scope of that variable is limited to local means the scope is limited to \n",
    "that function only, but to make that variable access anywhere in the program then we have to make that variable global.so, we \n",
    "can make the local variable to global by using global keyword.we can see the below example. \n"
   ]
  },
  {
   "cell_type": "code",
   "execution_count": 5,
   "id": "925b2922",
   "metadata": {},
   "outputs": [
    {
     "name": "stdout",
     "output_type": "stream",
     "text": [
      "100\n"
     ]
    }
   ],
   "source": [
    "def sum():\n",
    "    global x\n",
    "    x=10*10\n",
    "sum()\n",
    "print(x)#here after calling function we can print the variable directly\n",
    "    "
   ]
  },
  {
   "cell_type": "code",
   "execution_count": null,
   "id": "03a0b6d4",
   "metadata": {},
   "outputs": [],
   "source": [
    "#10. What is the data type of None?\n",
    "The None keyword is used to define a null value, or no value at all. None is not the same as 0, False, or an empty string. \n",
    "None is a data type of its own (NoneType) and only None can be None."
   ]
  },
  {
   "cell_type": "code",
   "execution_count": null,
   "id": "52950720",
   "metadata": {},
   "outputs": [],
   "source": [
    "#11. What does the sentence import areallyourpetsnamederic do?\n",
    "I didnt understood this much but i found that there is no library named allyourpetsnamederic, will get error by executing \n",
    "the line."
   ]
  },
  {
   "cell_type": "code",
   "execution_count": 6,
   "id": "ab04e085",
   "metadata": {},
   "outputs": [
    {
     "ename": "ModuleNotFoundError",
     "evalue": "No module named 'allyourpetsnamederic'",
     "output_type": "error",
     "traceback": [
      "\u001b[1;31m---------------------------------------------------------------------------\u001b[0m",
      "\u001b[1;31mModuleNotFoundError\u001b[0m                       Traceback (most recent call last)",
      "Input \u001b[1;32mIn [6]\u001b[0m, in \u001b[0;36m<cell line: 1>\u001b[1;34m()\u001b[0m\n\u001b[1;32m----> 1\u001b[0m \u001b[38;5;28;01mimport\u001b[39;00m \u001b[38;5;21;01mallyourpetsnamederic\u001b[39;00m\n",
      "\u001b[1;31mModuleNotFoundError\u001b[0m: No module named 'allyourpetsnamederic'"
     ]
    }
   ],
   "source": [
    "import allyourpetsnamederic"
   ]
  },
  {
   "cell_type": "code",
   "execution_count": null,
   "id": "0af1530d",
   "metadata": {},
   "outputs": [],
   "source": [
    "#12. If you had a bacon() feature in a spam module, what would you call it after importing spam?\n",
    "spam.bacon()"
   ]
  },
  {
   "cell_type": "code",
   "execution_count": null,
   "id": "c8747070",
   "metadata": {},
   "outputs": [],
   "source": [
    "#13. What can you do to save a programme from crashing if it encounters an error?\n",
    "I will try put a print statement in the line where iam getting error."
   ]
  },
  {
   "cell_type": "code",
   "execution_count": null,
   "id": "84e6fea9",
   "metadata": {},
   "outputs": [],
   "source": [
    "#14. What is the purpose of the try clause? What is the purpose of the except clause?\n",
    "The try block lets you test a block of code for errors. The except block lets you handle the error."
   ]
  }
 ],
 "metadata": {
  "kernelspec": {
   "display_name": "Python 3 (ipykernel)",
   "language": "python",
   "name": "python3"
  },
  "language_info": {
   "codemirror_mode": {
    "name": "ipython",
    "version": 3
   },
   "file_extension": ".py",
   "mimetype": "text/x-python",
   "name": "python",
   "nbconvert_exporter": "python",
   "pygments_lexer": "ipython3",
   "version": "3.9.12"
  }
 },
 "nbformat": 4,
 "nbformat_minor": 5
}
