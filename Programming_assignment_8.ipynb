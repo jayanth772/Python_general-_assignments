{
 "cells": [
  {
   "cell_type": "code",
   "execution_count": 16,
   "id": "fc67b3be",
   "metadata": {},
   "outputs": [
    {
     "name": "stdout",
     "output_type": "stream",
     "text": [
      "[[2, 0, 0], [0, 10, 0], [0, 0, 18]]\n"
     ]
    }
   ],
   "source": [
    "#1.Write a Python Program to Add Two Matrices?\n",
    "a=[[1,2,3],\n",
    "  [4,5,6],\n",
    "  [7,8,9]]\n",
    "\n",
    "b=[[1,-2,-3],\n",
    "  [-4,5,-6],\n",
    "  [-7,-8,9]]\n",
    "\n",
    "c=[[0,0,0],\n",
    "  [0,0,0],\n",
    "  [0,0,0]]\n",
    "for i in range(len(a)):\n",
    "    for j in range(len(a[0])):\n",
    "        c[i][j]=a[i][j]+b[i][j]\n",
    "\n",
    "print(c)"
   ]
  },
  {
   "cell_type": "code",
   "execution_count": 19,
   "id": "d677c276",
   "metadata": {},
   "outputs": [
    {
     "name": "stdout",
     "output_type": "stream",
     "text": [
      "[[-28, -16, 12, 58], [-58, -31, 12, 136], [-88, -46, 12, 214]]\n"
     ]
    }
   ],
   "source": [
    "#2.Write a Python Program to Multiply Two Matrices?\n",
    "a=[[1,2,3],\n",
    "  [4,5,6],\n",
    "  [7,8,9]]\n",
    "\n",
    "b=[[1,-2,-3,4],\n",
    "  [-4,5,-6,12],\n",
    "  [-7,-8,9,10]]\n",
    "\n",
    "c=[[0,0,0,0],\n",
    "  [0,0,0,0],\n",
    "  [0,0,0,0]]\n",
    "\n",
    "for i in range(len(a)):\n",
    "    for j in range(len(b[0])):\n",
    "        for k in range(len(b)):\n",
    "            c[i][j]+=a[i][k]*b[k][j]\n",
    "            \n",
    "print(c)"
   ]
  },
  {
   "cell_type": "code",
   "execution_count": 20,
   "id": "f21bade7",
   "metadata": {},
   "outputs": [
    {
     "name": "stdout",
     "output_type": "stream",
     "text": [
      "[[1, 3, 5], [2, 4, 6]]\n"
     ]
    }
   ],
   "source": [
    "#3. Write a Python Program to Transpose a Matrix?\n",
    "a=[[1,2],\n",
    "  [3,4],\n",
    "  [5,6]]\n",
    "\n",
    "b=[[0,0,0],\n",
    "   [0,0,0]]\n",
    "\n",
    "for i in range(len(a)):\n",
    "    for j in range(len(a[0])):\n",
    "        b[j][i]=a[i][j]\n",
    "        \n",
    "print(b)"
   ]
  },
  {
   "cell_type": "code",
   "execution_count": 22,
   "id": "2094d5f7",
   "metadata": {},
   "outputs": [
    {
     "name": "stdout",
     "output_type": "stream",
     "text": [
      "['is', 'jayanth', 'my', 'name']\n"
     ]
    }
   ],
   "source": [
    "#4. Write a Python Program to Sort Words in Alphabetic Order?\n",
    "str=\"My name is jayanth\"\n",
    "words=[]\n",
    "for i in str.split():\n",
    "    words.append(i.lower())\n",
    "\n",
    "words.sort()\n",
    "\n",
    "print(words)"
   ]
  },
  {
   "cell_type": "code",
   "execution_count": 29,
   "id": "20794d5e",
   "metadata": {},
   "outputs": [
    {
     "name": "stdout",
     "output_type": "stream",
     "text": [
      "himy name is jayanthwhat is your name\n"
     ]
    }
   ],
   "source": [
    "#5. Write a Python Program to Remove Punctuation From a String?\n",
    "str=\"Hi!My name is jayanth,what is your name?\"\n",
    "str2=\"\"\n",
    "for i in str:\n",
    "    if (ord(i.lower())>=97 and ord(i.lower())<=122) or i==\" \":\n",
    "        str2=str2+i.lower()\n",
    "\n",
    "print(str2)\n",
    "        "
   ]
  },
  {
   "cell_type": "code",
   "execution_count": null,
   "id": "0e958b8f",
   "metadata": {},
   "outputs": [],
   "source": []
  }
 ],
 "metadata": {
  "kernelspec": {
   "display_name": "Python 3 (ipykernel)",
   "language": "python",
   "name": "python3"
  },
  "language_info": {
   "codemirror_mode": {
    "name": "ipython",
    "version": 3
   },
   "file_extension": ".py",
   "mimetype": "text/x-python",
   "name": "python",
   "nbconvert_exporter": "python",
   "pygments_lexer": "ipython3",
   "version": "3.10.9"
  }
 },
 "nbformat": 4,
 "nbformat_minor": 5
}
