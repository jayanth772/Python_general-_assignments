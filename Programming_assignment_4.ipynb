{
 "cells": [
  {
   "cell_type": "code",
   "execution_count": 5,
   "id": "17770792",
   "metadata": {},
   "outputs": [
    {
     "name": "stdout",
     "output_type": "stream",
     "text": [
      "Enter the number:10\n",
      "Factorial of 10 is 3628800\n"
     ]
    }
   ],
   "source": [
    "#Question1\n",
    "#Write a Python Program to Find the Factorial of a Number?\n",
    "num=int(input(\"Enter the number:\"))\n",
    "fact=1\n",
    "for i in range(1,num+1):\n",
    "    fact=fact*i\n",
    "print(f\"Factorial of {num} is {fact}\")\n",
    "    "
   ]
  },
  {
   "cell_type": "code",
   "execution_count": 6,
   "id": "75486fd6",
   "metadata": {},
   "outputs": [
    {
     "name": "stdout",
     "output_type": "stream",
     "text": [
      "Enter the number you want to print table for:12\n",
      "12*0=0\n",
      "12*1=12\n",
      "12*2=24\n",
      "12*3=36\n",
      "12*4=48\n",
      "12*5=60\n",
      "12*6=72\n",
      "12*7=84\n",
      "12*8=96\n",
      "12*9=108\n",
      "12*10=120\n"
     ]
    }
   ],
   "source": [
    "#Question2\n",
    "#Write a Python Program to Display the multiplication Table?\n",
    "n=int(input(\"Enter the number you want to print table for:\"))\n",
    "for i in range(11):\n",
    "    print(f\"{n}*{i}={n*i}\")"
   ]
  },
  {
   "cell_type": "code",
   "execution_count": 9,
   "id": "82b63ea9",
   "metadata": {},
   "outputs": [
    {
     "name": "stdout",
     "output_type": "stream",
     "text": [
      "Enter the range:10\n",
      "Fibancci sequence in the given range\n",
      "0,1,1,2,3,5,8,13,21,34,"
     ]
    }
   ],
   "source": [
    "#Question3\n",
    "#Write a Python Program to Display the multiplication Table?\n",
    "r=int(input(\"Enter the range:\"))\n",
    "a=0\n",
    "b=1\n",
    "print(\"Fibancci sequence in the given range\")\n",
    "for i in range(r):\n",
    "    print(f\"{a},\",end=\"\")\n",
    "    c=a+b\n",
    "    a=b\n",
    "    b=c"
   ]
  },
  {
   "cell_type": "code",
   "execution_count": 23,
   "id": "f3e9fdf5",
   "metadata": {},
   "outputs": [
    {
     "name": "stdout",
     "output_type": "stream",
     "text": [
      "Enter the number:371\n",
      "371\n",
      "371 is armstrong number\n"
     ]
    }
   ],
   "source": [
    "#Question4\n",
    "#Write a Python Program to Check Armstrong Number?\n",
    "num=int(input(\"Enter the number:\"))\n",
    "n=num\n",
    "su=0\n",
    "while n>0:\n",
    "    a=n%10\n",
    "    su+=a**3\n",
    "    n//=10\n",
    "print(su)\n",
    "if su==num:\n",
    "    print(f\"{num} is armstrong number\")\n",
    "else:\n",
    "    print(f\"{num} is not armstrong number\")\n",
    "    \n",
    "    "
   ]
  },
  {
   "cell_type": "code",
   "execution_count": 24,
   "id": "1a43b980",
   "metadata": {},
   "outputs": [
    {
     "data": {
      "text/plain": [
       "15"
      ]
     },
     "execution_count": 24,
     "metadata": {},
     "output_type": "execute_result"
    }
   ],
   "source": [
    "153//10"
   ]
  },
  {
   "cell_type": "code",
   "execution_count": 27,
   "id": "9240c869",
   "metadata": {},
   "outputs": [
    {
     "name": "stdout",
     "output_type": "stream",
     "text": [
      "Enter the upper bound:1000\n",
      "0,1,153,370,371,407,"
     ]
    }
   ],
   "source": [
    "#Question5\n",
    "#Write a Python Program to Find Armstrong Number in an Interval?\n",
    "r=int(input(\"Enter the upper bound:\"))\n",
    "for num in range(r+1):\n",
    "    n=num\n",
    "    su=0\n",
    "    while n>0:\n",
    "        a=n%10\n",
    "        su+=a**3\n",
    "        n//=10\n",
    "    if su==num:\n",
    "        print(f\"{num},\",end=\"\")"
   ]
  },
  {
   "cell_type": "code",
   "execution_count": 31,
   "id": "fd0df840",
   "metadata": {},
   "outputs": [
    {
     "name": "stdout",
     "output_type": "stream",
     "text": [
      "Enter the number:10\n",
      "sum of natural numbers for 10 is 55\n"
     ]
    }
   ],
   "source": [
    "#Question6\n",
    "#Write a Python Program to Find the Sum of Natural Numbers?\n",
    "num=int(input(\"Enter the number:\"))\n",
    "n=num\n",
    "su=0\n",
    "while num>0:\n",
    "    su=su+num\n",
    "    num-=1\n",
    "print(f\"sum of natural numbers for {n} is {su}\")"
   ]
  },
  {
   "cell_type": "code",
   "execution_count": null,
   "id": "75c4021e",
   "metadata": {},
   "outputs": [],
   "source": []
  }
 ],
 "metadata": {
  "kernelspec": {
   "display_name": "Python 3 (ipykernel)",
   "language": "python",
   "name": "python3"
  },
  "language_info": {
   "codemirror_mode": {
    "name": "ipython",
    "version": 3
   },
   "file_extension": ".py",
   "mimetype": "text/x-python",
   "name": "python",
   "nbconvert_exporter": "python",
   "pygments_lexer": "ipython3",
   "version": "3.9.12"
  }
 },
 "nbformat": 4,
 "nbformat_minor": 5
}
