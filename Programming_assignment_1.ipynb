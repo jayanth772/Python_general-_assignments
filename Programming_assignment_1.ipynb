{
 "cells": [
  {
   "cell_type": "code",
   "execution_count": 3,
   "id": "4844436b",
   "metadata": {},
   "outputs": [
    {
     "name": "stdout",
     "output_type": "stream",
     "text": [
      "\"Hello python\"\n"
     ]
    }
   ],
   "source": [
    "#Question1\n",
    "#Write a Python program to print \"Hello python\"?\n",
    "print('\"Hello python\"')"
   ]
  },
  {
   "cell_type": "code",
   "execution_count": 4,
   "id": "3c97fec8",
   "metadata": {},
   "outputs": [
    {
     "name": "stdout",
     "output_type": "stream",
     "text": [
      "enter a value:10\n",
      "enter b value:2\n",
      "Addition of 10 and 2 is 12\n",
      "Division of 10 divide by 2 is 5.0\n"
     ]
    }
   ],
   "source": [
    "#Question2\n",
    "#Write a Python program to do arithmetical operations addition and division.?\n",
    "a=int(input(\"enter a value:\"))\n",
    "b=int(input(\"enter b value:\"))\n",
    "print(f\"Addition of {a} and {b} is {a+b}\")\n",
    "print(f\"Division of {a} divide by {b} is {a/b}\")"
   ]
  },
  {
   "cell_type": "code",
   "execution_count": 8,
   "id": "967ef02f",
   "metadata": {},
   "outputs": [
    {
     "name": "stdout",
     "output_type": "stream",
     "text": [
      "Enter height of triangle:10\n",
      "Enter base of triangle20\n",
      "The area of triangle of base 20 and height 10 is 100.0\n"
     ]
    }
   ],
   "source": [
    "#Question3\n",
    "#Write a Python program to find the area of a triangle?\n",
    "h=int(input(\"Enter height of triangle:\"))\n",
    "b=int(input(\"Enter base of triangle\"))\n",
    "#area=(h*b)/2\n",
    "print(f\"The area of triangle of base {b} and height {h} is {h*b/2}\")"
   ]
  },
  {
   "cell_type": "code",
   "execution_count": 9,
   "id": "1a984ec5",
   "metadata": {},
   "outputs": [
    {
     "name": "stdout",
     "output_type": "stream",
     "text": [
      "Before swapping values of a and b are (5, 8)\n",
      "After swapping values of a and b are (8, 5)\n"
     ]
    }
   ],
   "source": [
    "#Question4\n",
    "#Write a Python program to swap two variables?\n",
    "a=5\n",
    "b=8\n",
    "print(f\"Before swapping values of a and b are {a,b}\")\n",
    "a,b=b,a\n",
    "print(f\"After swapping values of a and b are {a,b}\")"
   ]
  },
  {
   "cell_type": "code",
   "execution_count": 12,
   "id": "24228b97",
   "metadata": {},
   "outputs": [
    {
     "name": "stdout",
     "output_type": "stream",
     "text": [
      "1\n"
     ]
    }
   ],
   "source": [
    "#Question5\n",
    "#Write a Python program to generate a random number?\n",
    "import random\n",
    "print(random.randint(0,10))"
   ]
  },
  {
   "cell_type": "code",
   "execution_count": null,
   "id": "91b0e3f4",
   "metadata": {},
   "outputs": [],
   "source": []
  },
  {
   "cell_type": "code",
   "execution_count": null,
   "id": "958f555f",
   "metadata": {},
   "outputs": [],
   "source": []
  }
 ],
 "metadata": {
  "kernelspec": {
   "display_name": "Python 3 (ipykernel)",
   "language": "python",
   "name": "python3"
  },
  "language_info": {
   "codemirror_mode": {
    "name": "ipython",
    "version": 3
   },
   "file_extension": ".py",
   "mimetype": "text/x-python",
   "name": "python",
   "nbconvert_exporter": "python",
   "pygments_lexer": "ipython3",
   "version": "3.9.12"
  }
 },
 "nbformat": 4,
 "nbformat_minor": 5
}
