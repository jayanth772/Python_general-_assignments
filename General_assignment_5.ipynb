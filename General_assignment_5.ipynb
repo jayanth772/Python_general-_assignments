{
 "cells": [
  {
   "cell_type": "code",
   "execution_count": 1,
   "id": "26ac322d",
   "metadata": {},
   "outputs": [
    {
     "data": {
      "text/plain": [
       "dict"
      ]
     },
     "execution_count": 1,
     "metadata": {},
     "output_type": "execute_result"
    }
   ],
   "source": [
    "#Question1\n",
    "d={}\n",
    "type(d)"
   ]
  },
  {
   "cell_type": "code",
   "execution_count": 2,
   "id": "2e821d59",
   "metadata": {},
   "outputs": [
    {
     "data": {
      "text/plain": [
       "dict"
      ]
     },
     "execution_count": 2,
     "metadata": {},
     "output_type": "execute_result"
    }
   ],
   "source": [
    "#Question1 \n",
    "#or we can write the empty dictionary as below also\n",
    "a=dict()\n",
    "type(a)"
   ]
  },
  {
   "cell_type": "code",
   "execution_count": 3,
   "id": "0d159017",
   "metadata": {},
   "outputs": [
    {
     "name": "stdout",
     "output_type": "stream",
     "text": [
      "{'foo': 42}\n"
     ]
    }
   ],
   "source": [
    "#Question2\n",
    "#the dictionary with key 'foo' and value 42 looks as below\n",
    "d={'foo':42}\n",
    "print(d)"
   ]
  },
  {
   "cell_type": "code",
   "execution_count": null,
   "id": "6c8747d9",
   "metadata": {},
   "outputs": [],
   "source": [
    "#Question3\n",
    "List:A list can write by seperating the values with commas(,) and it can contain any type of values.\n",
    "eg:L=[1,2,3,'jay',2+3j]\n",
    "Dictionary:A dictionary refers to a hashed structure of various pairs of keys and values.\n",
    "eg:d={'foo':42,'fal':'jjjj','gal':3+5j}"
   ]
  },
  {
   "cell_type": "code",
   "execution_count": 4,
   "id": "4e31d845",
   "metadata": {},
   "outputs": [
    {
     "ename": "KeyError",
     "evalue": "'foo'",
     "output_type": "error",
     "traceback": [
      "\u001b[1;31m---------------------------------------------------------------------------\u001b[0m",
      "\u001b[1;31mKeyError\u001b[0m                                  Traceback (most recent call last)",
      "Input \u001b[1;32mIn [4]\u001b[0m, in \u001b[0;36m<cell line: 4>\u001b[1;34m()\u001b[0m\n\u001b[0;32m      1\u001b[0m \u001b[38;5;66;03m#Question4\u001b[39;00m\n\u001b[0;32m      2\u001b[0m \u001b[38;5;66;03m#What happens if you try to access spam[&#39;foo&#39;] if spam is {'bar': 100}?\u001b[39;00m\n\u001b[0;32m      3\u001b[0m spam\u001b[38;5;241m=\u001b[39m{\u001b[38;5;124m'\u001b[39m\u001b[38;5;124mbar\u001b[39m\u001b[38;5;124m'\u001b[39m:\u001b[38;5;241m100\u001b[39m}\n\u001b[1;32m----> 4\u001b[0m \u001b[38;5;28mprint\u001b[39m(\u001b[43mspam\u001b[49m\u001b[43m[\u001b[49m\u001b[38;5;124;43m'\u001b[39;49m\u001b[38;5;124;43mfoo\u001b[39;49m\u001b[38;5;124;43m'\u001b[39;49m\u001b[43m]\u001b[49m)\n",
      "\u001b[1;31mKeyError\u001b[0m: 'foo'"
     ]
    }
   ],
   "source": [
    "#Question4\n",
    "#What happens if you try to access spam[&#39;foo&#39;] if spam is {'bar': 100}?\n",
    "spam={'bar':100}\n",
    "print(spam['foo'])\n",
    "#Gives a key error as there is no key as 'foo' in the dictionary spam\n"
   ]
  },
  {
   "cell_type": "code",
   "execution_count": 5,
   "id": "36400edf",
   "metadata": {},
   "outputs": [
    {
     "name": "stdout",
     "output_type": "stream",
     "text": [
      "True\n",
      "True\n"
     ]
    }
   ],
   "source": [
    "#Question5\n",
    "spam={'cat':100}\n",
    "print('cat' in spam)\n",
    "print('cat' in spam.keys())\n",
    "#there is no difference as both check the keys if there is 'cat' in spam.vales() then it gives different answer."
   ]
  },
  {
   "cell_type": "code",
   "execution_count": 6,
   "id": "a5d8f575",
   "metadata": {},
   "outputs": [
    {
     "name": "stdout",
     "output_type": "stream",
     "text": [
      "True\n",
      "False\n"
     ]
    }
   ],
   "source": [
    "#Question6\n",
    "spam={'cat':100}\n",
    "print('cat' in spam)\n",
    "print('cat' in spam.values())\n",
    "#here cat in spam whether there is any key, where as 'cat' in spam.values checks is there any 'cat' value in spam"
   ]
  },
  {
   "cell_type": "code",
   "execution_count": 7,
   "id": "9fef00d7",
   "metadata": {},
   "outputs": [
    {
     "name": "stdout",
     "output_type": "stream",
     "text": [
      "False\n",
      "False\n"
     ]
    }
   ],
   "source": [
    "spam={'cata':'cat'}\n",
    "print('cat' in spam)\n",
    "print('cat' in spam.keys())"
   ]
  },
  {
   "cell_type": "code",
   "execution_count": 24,
   "id": "02dae934",
   "metadata": {},
   "outputs": [
    {
     "data": {
      "text/plain": [
       "{'color': 'black'}"
      ]
     },
     "execution_count": 24,
     "metadata": {},
     "output_type": "execute_result"
    }
   ],
   "source": [
    "#Question7\n",
    "spam=dict()\n",
    "spam['color']='black' if 'color' not in spam else print(spam)\n",
    "spam"
   ]
  },
  {
   "cell_type": "code",
   "execution_count": 26,
   "id": "2138a4d7",
   "metadata": {},
   "outputs": [
    {
     "name": "stdout",
     "output_type": "stream",
     "text": [
      "{'class_attended': [{'English', 'Science', 'Mathematics'}],\n",
      " 'name': 'harry',\n",
      " 'serial_no': 65}\n"
     ]
    }
   ],
   "source": [
    "#Question8\n",
    "import pprint\n",
    "test_dict = {\n",
    "    'serial_no': 65,\n",
    "    'name': 'harry',\n",
    "    'class_attended': [{ 'English', 'Mathematics', 'Science'}]\n",
    "}\n",
    "pretty = pprint.pprint(test_dict)\n",
    "\n"
   ]
  },
  {
   "cell_type": "code",
   "execution_count": null,
   "id": "1a1b2649",
   "metadata": {},
   "outputs": [],
   "source": []
  }
 ],
 "metadata": {
  "kernelspec": {
   "display_name": "Python 3 (ipykernel)",
   "language": "python",
   "name": "python3"
  },
  "language_info": {
   "codemirror_mode": {
    "name": "ipython",
    "version": 3
   },
   "file_extension": ".py",
   "mimetype": "text/x-python",
   "name": "python",
   "nbconvert_exporter": "python",
   "pygments_lexer": "ipython3",
   "version": "3.9.12"
  }
 },
 "nbformat": 4,
 "nbformat_minor": 5
}
