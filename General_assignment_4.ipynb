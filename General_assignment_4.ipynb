{
 "cells": [
  {
   "cell_type": "code",
   "execution_count": null,
   "id": "be8a8ef5",
   "metadata": {},
   "outputs": [],
   "source": [
    "#1. What exactly is []?\n",
    "It is called as list, a datatype.The list stores elements in a sequential manner, whenever we need we can access. "
   ]
  },
  {
   "cell_type": "code",
   "execution_count": 1,
   "id": "9591b55f",
   "metadata": {},
   "outputs": [
    {
     "data": {
      "text/plain": [
       "list"
      ]
     },
     "execution_count": 1,
     "metadata": {},
     "output_type": "execute_result"
    }
   ],
   "source": [
    "a=[]\n",
    "type(a)"
   ]
  },
  {
   "cell_type": "code",
   "execution_count": 9,
   "id": "21c4260f",
   "metadata": {},
   "outputs": [
    {
     "data": {
      "text/plain": [
       "[2, 4, 6, 8, 10]"
      ]
     },
     "execution_count": 9,
     "metadata": {},
     "output_type": "execute_result"
    }
   ],
   "source": [
    "#2. In a list of values stored in a variable called spam, how would you assign the value 'hello' as the third value? \n",
    "#(Assume [2, 4, 6, 8, 10] are in spam.)\n",
    "spam = [2,4,6,8,10]\n",
    "spam"
   ]
  },
  {
   "cell_type": "code",
   "execution_count": 10,
   "id": "e1a13fdf",
   "metadata": {},
   "outputs": [
    {
     "data": {
      "text/plain": [
       "[2, 4, 'hello', 6, 8, 10]"
      ]
     },
     "execution_count": 10,
     "metadata": {},
     "output_type": "execute_result"
    }
   ],
   "source": [
    "spam.insert(2,'hello')\n",
    "spam"
   ]
  },
  {
   "cell_type": "code",
   "execution_count": 12,
   "id": "b949bddd",
   "metadata": {},
   "outputs": [
    {
     "data": {
      "text/plain": [
       "[2, 4, 'hello', 8, 10]"
      ]
     },
     "execution_count": 12,
     "metadata": {},
     "output_type": "execute_result"
    }
   ],
   "source": [
    "spam = [2,4,6,8,10]\n",
    "#or you can replace the 3rd value with hello\n",
    "spam[2] = 'hello'\n",
    "spam"
   ]
  },
  {
   "cell_type": "code",
   "execution_count": 14,
   "id": "05699f9c",
   "metadata": {},
   "outputs": [
    {
     "data": {
      "text/plain": [
       "[2, 4, 6, 8, 10, ['a', 'b', 'c', 'd']]"
      ]
     },
     "execution_count": 14,
     "metadata": {},
     "output_type": "execute_result"
    }
   ],
   "source": [
    "spam = [2,4,6,8,10]\n",
    "#let us preteend spam includes list ['a','b','c','d'] for the next three queries.\n",
    "spam.append(['a','b','c','d'])\n",
    "spam"
   ]
  },
  {
   "cell_type": "code",
   "execution_count": null,
   "id": "348c102e",
   "metadata": {},
   "outputs": [],
   "source": [
    "#3. What is the value of spam[int(int('3' * 2) / 11)]?\n",
    "int(int('3' * 2) / 11)\n",
    "int(int('33')/11)\n",
    "int(33/11)\n",
    "int(3.0)\n",
    "3"
   ]
  },
  {
   "cell_type": "code",
   "execution_count": 16,
   "id": "2c3c3203",
   "metadata": {},
   "outputs": [
    {
     "data": {
      "text/plain": [
       "3"
      ]
     },
     "execution_count": 16,
     "metadata": {},
     "output_type": "execute_result"
    }
   ],
   "source": [
    "int(int('3' * 2) / 11)"
   ]
  },
  {
   "cell_type": "code",
   "execution_count": 17,
   "id": "52b04124",
   "metadata": {},
   "outputs": [
    {
     "data": {
      "text/plain": [
       "8"
      ]
     },
     "execution_count": 17,
     "metadata": {},
     "output_type": "execute_result"
    }
   ],
   "source": [
    "spam[int(int('3' * 2) / 11)]#spam[3]"
   ]
  },
  {
   "cell_type": "code",
   "execution_count": 18,
   "id": "59dd503b",
   "metadata": {},
   "outputs": [
    {
     "data": {
      "text/plain": [
       "['a', 'b', 'c', 'd']"
      ]
     },
     "execution_count": 18,
     "metadata": {},
     "output_type": "execute_result"
    }
   ],
   "source": [
    "#4. What is the value of spam[-1]?\n",
    "spam[-1]"
   ]
  },
  {
   "cell_type": "code",
   "execution_count": 20,
   "id": "76805c63",
   "metadata": {},
   "outputs": [
    {
     "data": {
      "text/plain": [
       "[2, 4]"
      ]
     },
     "execution_count": 20,
     "metadata": {},
     "output_type": "execute_result"
    }
   ],
   "source": [
    "#5. What is the value of spam[:2]?\n",
    "spam[:2]"
   ]
  },
  {
   "cell_type": "code",
   "execution_count": 21,
   "id": "4de8a848",
   "metadata": {},
   "outputs": [
    {
     "data": {
      "text/plain": [
       "[3.14, 'cat', 11, 'cat', True]"
      ]
     },
     "execution_count": 21,
     "metadata": {},
     "output_type": "execute_result"
    }
   ],
   "source": [
    "#Let us pretend bacon has the list [3.14,'cat',11,'cat',True] for the next three questions.\n",
    "bacon = [3.14,'cat',11,'cat',True]\n",
    "bacon"
   ]
  },
  {
   "cell_type": "code",
   "execution_count": 22,
   "id": "6cec3e0b",
   "metadata": {},
   "outputs": [
    {
     "data": {
      "text/plain": [
       "1"
      ]
     },
     "execution_count": 22,
     "metadata": {},
     "output_type": "execute_result"
    }
   ],
   "source": [
    "#6. What is the value of bacon.index('cat')?\n",
    "bacon.index('cat')#always print the first occurance"
   ]
  },
  {
   "cell_type": "code",
   "execution_count": 23,
   "id": "c7858914",
   "metadata": {},
   "outputs": [
    {
     "data": {
      "text/plain": [
       "[3.14, 'cat', 11, 'cat', True, 99]"
      ]
     },
     "execution_count": 23,
     "metadata": {},
     "output_type": "execute_result"
    }
   ],
   "source": [
    "#7. How does bacon.append(99) change the look of the list value in bacon?\n",
    "bacon.append(99)\n",
    "bacon"
   ]
  },
  {
   "cell_type": "code",
   "execution_count": 24,
   "id": "9444aee2",
   "metadata": {},
   "outputs": [
    {
     "data": {
      "text/plain": [
       "[3.14, 11, 'cat', True, 99]"
      ]
     },
     "execution_count": 24,
     "metadata": {},
     "output_type": "execute_result"
    }
   ],
   "source": [
    "#8. How does bacon.remove('cat') change the look of the list in bacon?\n",
    "bacon.remove('cat')#removes the first occurance in the list\n",
    "bacon"
   ]
  },
  {
   "cell_type": "code",
   "execution_count": null,
   "id": "eefb21db",
   "metadata": {},
   "outputs": [],
   "source": [
    "#9. What are the list concatenation and list replication operators? \n",
    "list concatenation operator(+):The concatenation operator combines the bits two or more data objects.\n",
    "list replication operator(*):The replication operator performs multiple concatentions of a same bit."
   ]
  },
  {
   "cell_type": "code",
   "execution_count": 1,
   "id": "f61e155b",
   "metadata": {},
   "outputs": [
    {
     "data": {
      "text/plain": [
       "[1, 2, 3, 4, 5, 6]"
      ]
     },
     "execution_count": 1,
     "metadata": {},
     "output_type": "execute_result"
    }
   ],
   "source": [
    "a = [1,2,3]\n",
    "b = [4,5,6]\n",
    "a+b"
   ]
  },
  {
   "cell_type": "code",
   "execution_count": 2,
   "id": "b93dc585",
   "metadata": {},
   "outputs": [
    {
     "data": {
      "text/plain": [
       "[1, 2, 3, 1, 2, 3, 1, 2, 3]"
      ]
     },
     "execution_count": 2,
     "metadata": {},
     "output_type": "execute_result"
    }
   ],
   "source": [
    "a*3#It performed three concatenation of same list"
   ]
  },
  {
   "cell_type": "code",
   "execution_count": null,
   "id": "d76f29fe",
   "metadata": {},
   "outputs": [],
   "source": [
    "#10. What is difference between the list methods append() and insert()?\n",
    "append():append method is used to add elements at the end of the list.\n",
    "syntax:listname.append(element)\n",
    "insert():insert method is used to add element at a particular position or index.\n",
    "syntax:listname.insert(index,element)"
   ]
  },
  {
   "cell_type": "code",
   "execution_count": 4,
   "id": "c9d7f7b4",
   "metadata": {},
   "outputs": [
    {
     "data": {
      "text/plain": [
       "[22, 3, 4, 12, 3, 4, 'jayanth']"
      ]
     },
     "execution_count": 4,
     "metadata": {},
     "output_type": "execute_result"
    }
   ],
   "source": [
    "#append example\n",
    "list1 = [22,3,4,12,3,4]\n",
    "list1.append('jayanth')\n",
    "list1#value gets added at the end of the list"
   ]
  },
  {
   "cell_type": "code",
   "execution_count": 5,
   "id": "d1b65582",
   "metadata": {},
   "outputs": [
    {
     "data": {
      "text/plain": [
       "[100, 22, 3, 4, 'hello', 12, 3, 4, 'jayanth']"
      ]
     },
     "execution_count": 5,
     "metadata": {},
     "output_type": "execute_result"
    }
   ],
   "source": [
    "#insert example\n",
    "list1.insert(3,'hello')#hello is inserted at 3rd position or index without replacing any element\n",
    "list1.insert(0,100)#100 is inserted at 0th position or index without replacing any element\n",
    "list1"
   ]
  },
  {
   "cell_type": "code",
   "execution_count": null,
   "id": "2032c955",
   "metadata": {},
   "outputs": [],
   "source": [
    "#11. What are the two methods for removing items from a list?\n",
    "By using remove(),pop() and clear() methods we can remove items.\n",
    "remove():It removes the first occurance from the list.\n",
    "pop():It removes the element of the given index.\n",
    "clear():It removes or deletes all the elements from the list."
   ]
  },
  {
   "cell_type": "code",
   "execution_count": 10,
   "id": "d928b1d7",
   "metadata": {},
   "outputs": [
    {
     "data": {
      "text/plain": [
       "[100, 22, 3, 4, 'hello', 12, 3, 4]"
      ]
     },
     "execution_count": 10,
     "metadata": {},
     "output_type": "execute_result"
    }
   ],
   "source": [
    "list1\n",
    "list1.pop()#If we won't mention any index position then it deletes the last element in the list.\n",
    "list1"
   ]
  },
  {
   "cell_type": "code",
   "execution_count": 11,
   "id": "76223971",
   "metadata": {},
   "outputs": [
    {
     "data": {
      "text/plain": [
       "[100, 3, 4, 'hello', 12, 3, 4]"
      ]
     },
     "execution_count": 11,
     "metadata": {},
     "output_type": "execute_result"
    }
   ],
   "source": [
    "list1.pop(1)#removes 22 which is at 1st index\n",
    "list1"
   ]
  },
  {
   "cell_type": "code",
   "execution_count": 12,
   "id": "4dee25fb",
   "metadata": {},
   "outputs": [
    {
     "data": {
      "text/plain": [
       "[100, 4, 'hello', 12, 3, 4, 3]"
      ]
     },
     "execution_count": 12,
     "metadata": {},
     "output_type": "execute_result"
    }
   ],
   "source": [
    "#remove example\n",
    "list1.append(3)\n",
    "list1.remove(3)#It removes the 3 element at 1st index which is the first occurance \n",
    "list1"
   ]
  },
  {
   "cell_type": "code",
   "execution_count": 14,
   "id": "f12f3831",
   "metadata": {},
   "outputs": [
    {
     "data": {
      "text/plain": [
       "[]"
      ]
     },
     "execution_count": 14,
     "metadata": {},
     "output_type": "execute_result"
    }
   ],
   "source": [
    "#clear example\n",
    "list1.clear()#It clears or deletes all elements from the list \n",
    "list1"
   ]
  },
  {
   "cell_type": "code",
   "execution_count": null,
   "id": "064fe94d",
   "metadata": {},
   "outputs": [],
   "source": [
    "#12. Describe how list values and string values are identical.\n",
    "The values that make up list are called as elements, lists are similar to string which are collection of characters in an order."
   ]
  },
  {
   "cell_type": "code",
   "execution_count": null,
   "id": "3790fd93",
   "metadata": {},
   "outputs": [],
   "source": [
    "#13.What's the difference between tuples and lists?\n",
    "lists are mutable and tuples are immutable it means we can change the elements in the list but not able to change in tup.\n",
    "we can see in the below example."
   ]
  },
  {
   "cell_type": "code",
   "execution_count": 18,
   "id": "ab1f1ca8",
   "metadata": {},
   "outputs": [
    {
     "data": {
      "text/plain": [
       "[1, 2, 12]"
      ]
     },
     "execution_count": 18,
     "metadata": {},
     "output_type": "execute_result"
    }
   ],
   "source": [
    "lis = [1,2,3]\n",
    "lis[2] = 12\n",
    "lis"
   ]
  },
  {
   "cell_type": "code",
   "execution_count": 19,
   "id": "2d51ee02",
   "metadata": {},
   "outputs": [
    {
     "ename": "TypeError",
     "evalue": "'tuple' object does not support item assignment",
     "output_type": "error",
     "traceback": [
      "\u001b[1;31m---------------------------------------------------------------------------\u001b[0m",
      "\u001b[1;31mTypeError\u001b[0m                                 Traceback (most recent call last)",
      "Input \u001b[1;32mIn [19]\u001b[0m, in \u001b[0;36m<cell line: 2>\u001b[1;34m()\u001b[0m\n\u001b[0;32m      1\u001b[0m tup \u001b[38;5;241m=\u001b[39m (\u001b[38;5;241m1\u001b[39m,\u001b[38;5;241m2\u001b[39m,\u001b[38;5;241m3\u001b[39m)\n\u001b[1;32m----> 2\u001b[0m tup[\u001b[38;5;241m2\u001b[39m] \u001b[38;5;241m=\u001b[39m \u001b[38;5;241m12\u001b[39m\n\u001b[0;32m      3\u001b[0m tup\n",
      "\u001b[1;31mTypeError\u001b[0m: 'tuple' object does not support item assignment"
     ]
    }
   ],
   "source": [
    "tup = (1,2,3)\n",
    "tup[2] = 12\n",
    "tup"
   ]
  },
  {
   "cell_type": "code",
   "execution_count": 22,
   "id": "6405724c",
   "metadata": {},
   "outputs": [
    {
     "data": {
      "text/plain": [
       "(42,)"
      ]
     },
     "execution_count": 22,
     "metadata": {},
     "output_type": "execute_result"
    }
   ],
   "source": [
    "#14. How do you type a tuple value that only contains the integer 42?\n",
    "t = (42,)\n",
    "t"
   ]
  },
  {
   "cell_type": "code",
   "execution_count": 24,
   "id": "f8a559da",
   "metadata": {},
   "outputs": [
    {
     "data": {
      "text/plain": [
       "(1, 2, 3, 'j', 33)"
      ]
     },
     "execution_count": 24,
     "metadata": {},
     "output_type": "execute_result"
    }
   ],
   "source": [
    "#15. How do you get a list value's tuple form? How do you get a tuple value's list form?\n",
    "#list to tuple\n",
    "lis1 = [1,2,3,'j',33]\n",
    "tup1 = tuple(lis1)\n",
    "tup1"
   ]
  },
  {
   "cell_type": "code",
   "execution_count": 25,
   "id": "6b06e3ce",
   "metadata": {},
   "outputs": [
    {
     "data": {
      "text/plain": [
       "[1, 2, 3, 'j', 33]"
      ]
     },
     "execution_count": 25,
     "metadata": {},
     "output_type": "execute_result"
    }
   ],
   "source": [
    "#tuple to list\n",
    "tup1\n",
    "lis2 = list(tup1)\n",
    "lis2"
   ]
  },
  {
   "cell_type": "code",
   "execution_count": null,
   "id": "2b7b0bd8",
   "metadata": {},
   "outputs": [],
   "source": [
    "#16. Variables that \"contain\" list values are not necessarily lists themselves. Instead, what do they contain?\n",
    "#may be the answer is\n",
    "List variable contain refrences to list values as list contains series of elements, where variables of string and int just \n",
    "contain the string and int value.\n"
   ]
  }
 ],
 "metadata": {
  "kernelspec": {
   "display_name": "Python 3 (ipykernel)",
   "language": "python",
   "name": "python3"
  },
  "language_info": {
   "codemirror_mode": {
    "name": "ipython",
    "version": 3
   },
   "file_extension": ".py",
   "mimetype": "text/x-python",
   "name": "python",
   "nbconvert_exporter": "python",
   "pygments_lexer": "ipython3",
   "version": "3.9.12"
  }
 },
 "nbformat": 4,
 "nbformat_minor": 5
}
