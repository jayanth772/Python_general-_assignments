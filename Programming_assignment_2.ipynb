{
 "cells": [
  {
   "cell_type": "code",
   "execution_count": 6,
   "id": "b70fae99",
   "metadata": {},
   "outputs": [
    {
     "name": "stdout",
     "output_type": "stream",
     "text": [
      "Enter kilometers:10\n",
      "Given 10kilometers in miles are 6.300 miles\n"
     ]
    }
   ],
   "source": [
    "#Question1\n",
    "#Write a Python program to convert kilometers to miles?\n",
    "#1km=0.63 miles\n",
    "km=int(input(\"Enter kilometers:\"))\n",
    "print(f\"Given {km}kilometers in miles are %.3f miles\"%(km*0.63))"
   ]
  },
  {
   "cell_type": "code",
   "execution_count": 10,
   "id": "d42ea10c",
   "metadata": {},
   "outputs": [
    {
     "name": "stdout",
     "output_type": "stream",
     "text": [
      "Enter celsius value:28\n",
      "Given 28celsius in fahrenheit is 82.4 fahrenheit\n"
     ]
    }
   ],
   "source": [
    "#Question2\n",
    "#Write a Python program to convert Celsius to Fahrenheit?\n",
    "cel=int(input(\"Enter celsius value:\"))\n",
    "print(f\"Given {cel}celsius in fahrenheit is %.1f fahrenheit\"%(((cel*9)/5)+32))"
   ]
  },
  {
   "cell_type": "code",
   "execution_count": 12,
   "id": "e76688b0",
   "metadata": {},
   "outputs": [
    {
     "name": "stdout",
     "output_type": "stream",
     "text": [
      "Enter year:2000\n",
      "Enter month:06\n",
      "     June 2000\n",
      "Mo Tu We Th Fr Sa Su\n",
      "          1  2  3  4\n",
      " 5  6  7  8  9 10 11\n",
      "12 13 14 15 16 17 18\n",
      "19 20 21 22 23 24 25\n",
      "26 27 28 29 30\n",
      "\n"
     ]
    }
   ],
   "source": [
    "#Question3\n",
    "#Write a Python program to display calendar?\n",
    "import calendar\n",
    "yy=int(input(\"Enter year:\"))\n",
    "mm=int(input(\"Enter month:\"))\n",
    "print(calendar.month(yy,mm))"
   ]
  },
  {
   "cell_type": "code",
   "execution_count": 1,
   "id": "5f7fd43b",
   "metadata": {},
   "outputs": [
    {
     "name": "stdout",
     "output_type": "stream",
     "text": [
      "values of the given quad equation are (54+0j) and (48+0j)\n"
     ]
    }
   ],
   "source": [
    "#Question4\n",
    "#Write a Python program to solve quadratic equation?\n",
    "import cmath\n",
    "a=6\n",
    "b=-17\n",
    "c=12\n",
    "r=(b*b)-(4*a*c)\n",
    "r=cmath.sqrt(r)\n",
    "v1=(-b+r)/2*a\n",
    "v2=(-b-r)/2*a\n",
    "print(f\"values of the given quad equation are {v1} and {v2}\")"
   ]
  },
  {
   "cell_type": "code",
   "execution_count": 2,
   "id": "d0a6b7d1",
   "metadata": {},
   "outputs": [
    {
     "name": "stdout",
     "output_type": "stream",
     "text": [
      "Enter a value:22\n",
      "Enter b value:33\n",
      "Before swapping values of a,b are (22, 33)\n",
      "After swapping values of a,b are (33, 22)\n"
     ]
    }
   ],
   "source": [
    "#Question5\n",
    "#Write a Python program to swap two variables without temp variable?\n",
    "a=int(input(\"Enter a value:\"))\n",
    "b=int(input(\"Enter b value:\"))\n",
    "print(f\"Before swapping values of a,b are {a,b}\")\n",
    "a,b=b,a\n",
    "print(f\"After swapping values of a,b are {a,b}\")"
   ]
  },
  {
   "cell_type": "code",
   "execution_count": null,
   "id": "86b6eac8",
   "metadata": {},
   "outputs": [],
   "source": []
  }
 ],
 "metadata": {
  "kernelspec": {
   "display_name": "Python 3 (ipykernel)",
   "language": "python",
   "name": "python3"
  },
  "language_info": {
   "codemirror_mode": {
    "name": "ipython",
    "version": 3
   },
   "file_extension": ".py",
   "mimetype": "text/x-python",
   "name": "python",
   "nbconvert_exporter": "python",
   "pygments_lexer": "ipython3",
   "version": "3.9.12"
  }
 },
 "nbformat": 4,
 "nbformat_minor": 5
}
