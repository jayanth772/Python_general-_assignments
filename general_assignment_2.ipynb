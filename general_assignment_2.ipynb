{
 "cells": [
  {
   "cell_type": "code",
   "execution_count": 2,
   "id": "d4313649",
   "metadata": {},
   "outputs": [
    {
     "data": {
      "text/plain": [
       "bool"
      ]
     },
     "execution_count": 2,
     "metadata": {},
     "output_type": "execute_result"
    }
   ],
   "source": [
    "#question 1\n",
    "#1.What are the two values of the Boolean data type? How do you write them?\n",
    "#Two values of boolean datatype are true and false.\n",
    "a = True\n",
    "type(a)"
   ]
  },
  {
   "cell_type": "code",
   "execution_count": 5,
   "id": "5288bcc1",
   "metadata": {},
   "outputs": [
    {
     "data": {
      "text/plain": [
       "bool"
      ]
     },
     "execution_count": 5,
     "metadata": {},
     "output_type": "execute_result"
    }
   ],
   "source": [
    "b = False\n",
    "type(b)"
   ]
  },
  {
   "cell_type": "code",
   "execution_count": null,
   "id": "e9e75f19",
   "metadata": {},
   "outputs": [],
   "source": [
    "#Question 2\n",
    "#2. What are the three different types of Boolean operators?\n",
    "Three different types of boolean operators are AND,OR and NOT.\n",
    "AND - When we use this operator all conditions must be correct then it will gives the output as True.\n",
    "OR - When we use this operator even if one condition is correct still it gives the output as True.\n",
    "NOT - When we use this operator the condition must not be correct then it gives output as True."
   ]
  },
  {
   "cell_type": "code",
   "execution_count": null,
   "id": "77ba84e8",
   "metadata": {},
   "outputs": [],
   "source": [
    "#question 3 -AND\n",
    "A  | B  |A AND B\n",
    "------------------\n",
    "T  | T  |T\n",
    "T  | F  |F\n",
    "F  | T  |F\n",
    "F  | F  |F\n",
    "\n",
    "#OR\n",
    "A  | B  |A OR B\n",
    "------------------\n",
    "T  | T  |T\n",
    "T  | F  |T\n",
    "F  | T  |T\n",
    "F  | F  |F\n",
    "\n",
    "#NOT\n",
    "A  | NOT A\n",
    "------------\n",
    "T  | F\n",
    "F  | T"
   ]
  },
  {
   "cell_type": "code",
   "execution_count": 7,
   "id": "11b88e9c",
   "metadata": {},
   "outputs": [
    {
     "data": {
      "text/plain": [
       "False"
      ]
     },
     "execution_count": 7,
     "metadata": {},
     "output_type": "execute_result"
    }
   ],
   "source": [
    "#Question 4 - (5 > 4) and (3 == 5)\n",
    "(5 > 4) and (3 == 5)"
   ]
  },
  {
   "cell_type": "code",
   "execution_count": 8,
   "id": "73e78de1",
   "metadata": {},
   "outputs": [
    {
     "data": {
      "text/plain": [
       "False"
      ]
     },
     "execution_count": 8,
     "metadata": {},
     "output_type": "execute_result"
    }
   ],
   "source": [
    "#Question 4 - not (5 > 4)\n",
    "not (5 > 4)"
   ]
  },
  {
   "cell_type": "code",
   "execution_count": 10,
   "id": "fe34a7e4",
   "metadata": {},
   "outputs": [
    {
     "data": {
      "text/plain": [
       "False"
      ]
     },
     "execution_count": 10,
     "metadata": {},
     "output_type": "execute_result"
    }
   ],
   "source": [
    "#question 4 - not ((5 > 4) or (3 == 5))\n",
    "not ((5 > 4) or (3 == 5))"
   ]
  },
  {
   "cell_type": "code",
   "execution_count": 11,
   "id": "ce3a8c80",
   "metadata": {},
   "outputs": [
    {
     "data": {
      "text/plain": [
       "False"
      ]
     },
     "execution_count": 11,
     "metadata": {},
     "output_type": "execute_result"
    }
   ],
   "source": [
    "#Question 4 - (True and True) and (True == False)\n",
    "(True and True) and (True == False)"
   ]
  },
  {
   "cell_type": "code",
   "execution_count": 12,
   "id": "61ff47a0",
   "metadata": {},
   "outputs": [
    {
     "data": {
      "text/plain": [
       "True"
      ]
     },
     "execution_count": 12,
     "metadata": {},
     "output_type": "execute_result"
    }
   ],
   "source": [
    "#Question 4 - (not False) or (not True)\n",
    "(not False) or (not True)"
   ]
  },
  {
   "cell_type": "code",
   "execution_count": null,
   "id": "c3ab8858",
   "metadata": {},
   "outputs": [],
   "source": [
    "#Question 5\n",
    "#5. What are the six comparison operators?\n",
    "1-less than(<) eg:a<b\n",
    "2-less  than or equal to(<=) eg:a<=b\n",
    "3-greater than eg(>):a>b\n",
    "4-greater than or equal to(>=) eg:a>=b\n",
    "5-equal too(==) eg:a==b\n",
    "6-not equal to(!=) eg:a!=b"
   ]
  },
  {
   "cell_type": "code",
   "execution_count": 13,
   "id": "5b258953",
   "metadata": {},
   "outputs": [
    {
     "data": {
      "text/plain": [
       "109"
      ]
     },
     "execution_count": 13,
     "metadata": {},
     "output_type": "execute_result"
    }
   ],
   "source": [
    "#Question 6\n",
    "#How do you tell the difference between the equal to and assignment operators?Describe a condition and when you would use one.\n",
    "#assignment - Here we assign a value to a variable by using equal(=) symbol\n",
    "a = 109\n",
    "a"
   ]
  },
  {
   "cell_type": "code",
   "execution_count": 14,
   "id": "75ab9927",
   "metadata": {},
   "outputs": [
    {
     "data": {
      "text/plain": [
       "True"
      ]
     },
     "execution_count": 14,
     "metadata": {},
     "output_type": "execute_result"
    }
   ],
   "source": [
    "#Question 6\n",
    "#equal to operator(==) - it is a comparison operator and prints whether it is correct or not.\n",
    "a=10\n",
    "b=10\n",
    "a==b\n"
   ]
  },
  {
   "cell_type": "code",
   "execution_count": 16,
   "id": "3c699ba2",
   "metadata": {},
   "outputs": [
    {
     "name": "stdout",
     "output_type": "stream",
     "text": [
      "ham\n",
      "spam\n",
      "spam\n"
     ]
    }
   ],
   "source": [
    "#Question 7\n",
    "spam = 0\n",
    "if spam == 10:\n",
    "    print('eggs')\n",
    "if spam > 5:\n",
    "    print('bacon')\n",
    "else:\n",
    "    print('ham')\n",
    "    print('spam')\n",
    "    print('spam')"
   ]
  },
  {
   "cell_type": "code",
   "execution_count": 3,
   "id": "d89825ad",
   "metadata": {},
   "outputs": [
    {
     "name": "stdout",
     "output_type": "stream",
     "text": [
      "enter spam value2\n",
      "Howdy\n"
     ]
    }
   ],
   "source": [
    "#Question 8\n",
    "#Write code that prints Hello if 1 is stored in spam, prints Howdy if 2 is stored in spam, and prints\n",
    "#Greetings! if anything else is stored in spam.\n",
    "spam = int(input(\"enter spam value\"))\n",
    "if spam==1:\n",
    "    print(\"Hello\")\n",
    "elif spam==2:\n",
    "    print(\"Howdy\")\n",
    "else:\n",
    "    print(\"Greetings!\")"
   ]
  },
  {
   "cell_type": "code",
   "execution_count": null,
   "id": "edb6aa47",
   "metadata": {},
   "outputs": [],
   "source": [
    "#Question 9\n",
    "ctrl+c"
   ]
  },
  {
   "cell_type": "code",
   "execution_count": 2,
   "id": "a0352fb0",
   "metadata": {},
   "outputs": [
    {
     "name": "stdout",
     "output_type": "stream",
     "text": [
      "1\n",
      "2\n",
      "3\n",
      "4\n"
     ]
    }
   ],
   "source": [
    "#question 10 - How can you tell the difference between break and continue?\n",
    "#break - Here if the condition matches it breaks the loop and gets exit from the loop.\n",
    "a = 1\n",
    "while a>0:\n",
    "    if a>=5:\n",
    "        break\n",
    "    else:\n",
    "        print(a)\n",
    "    a=a+1\n"
   ]
  },
  {
   "cell_type": "code",
   "execution_count": 1,
   "id": "c8139e6e",
   "metadata": {},
   "outputs": [
    {
     "name": "stdout",
     "output_type": "stream",
     "text": [
      "1\n",
      "2\n",
      "3\n",
      "4\n",
      "6\n",
      "7\n",
      "8\n",
      "9\n"
     ]
    }
   ],
   "source": [
    "#Question 10 - How can you tell the difference between break and continue?\n",
    "#continue - Here if the condition matches it skips that particular one\n",
    "for i in range(1,10):\n",
    "    if i==5:\n",
    "        continue\n",
    "    else:\n",
    "        print(i)"
   ]
  },
  {
   "cell_type": "code",
   "execution_count": 4,
   "id": "a89f1e04",
   "metadata": {},
   "outputs": [
    {
     "name": "stdout",
     "output_type": "stream",
     "text": [
      "0 \n",
      "1 \n",
      "2 \n",
      "3 \n",
      "4 \n",
      "5 \n",
      "6 \n",
      "7 \n",
      "8 \n",
      "9 \n"
     ]
    }
   ],
   "source": [
    "#Question 11-In a for loop, what is the difference between range(10), range(0, 10), and range(0, 10, 1)?\n",
    "#range(10) - Here the initial value will be 0 by default and end value is 10 and 10 won't print,it will print upto 9 only\n",
    "for i in range(10):\n",
    "    print(i)\n"
   ]
  },
  {
   "cell_type": "code",
   "execution_count": 5,
   "id": "62c7b199",
   "metadata": {},
   "outputs": [
    {
     "name": "stdout",
     "output_type": "stream",
     "text": [
      "0\n",
      "1\n",
      "2\n",
      "3\n",
      "4\n",
      "5\n",
      "6\n",
      "7\n",
      "8\n",
      "9\n"
     ]
    }
   ],
   "source": [
    "#Question 11-In a for loop, what is the difference between range(10), range(0, 10), and range(0, 10, 1)?\n",
    "#range(0,10) - Here the initial value will be 0 and the end value is 10 and 10 won't come into range, it will print upto 9 only \n",
    "for i in range(0,10):\n",
    "    print(i)\n"
   ]
  },
  {
   "cell_type": "code",
   "execution_count": 6,
   "id": "4bddf5db",
   "metadata": {},
   "outputs": [
    {
     "name": "stdout",
     "output_type": "stream",
     "text": [
      "2\n",
      "3\n",
      "4\n",
      "5\n",
      "6\n",
      "7\n",
      "8\n",
      "9\n"
     ]
    }
   ],
   "source": [
    "#Question 11-In a for loop, what is the difference between range(10), range(0, 10), and range(0, 10, 1)?\n",
    "#range(0,10) - Here the initial value will be 0 and the end value is 10 and 10 won't come into range, it will print upto 9 only \n",
    "#Here  if i write 2 in place 0 then the intial value will become 2 and it starts printing from 2\n",
    "for i in range(2,10):\n",
    "    print(i)\n"
   ]
  },
  {
   "cell_type": "code",
   "execution_count": 7,
   "id": "b88996e4",
   "metadata": {},
   "outputs": [
    {
     "name": "stdout",
     "output_type": "stream",
     "text": [
      "0\n",
      "1\n",
      "2\n",
      "3\n",
      "4\n",
      "5\n",
      "6\n",
      "7\n",
      "8\n",
      "9\n"
     ]
    }
   ],
   "source": [
    "#Question 11-In a for loop, what is the difference between range(10), range(0, 10), and range(0, 10, 1)?\n",
    "#range(0,10,1) - Here the initial value will be 0 and the end value is 10 and 10 won't come into range, it will print upto 9 only \n",
    "#and 1 is the no of steps it will jump from the intial value or a value is added to the intial value and to the result and goes on.  \n",
    "for i in range(0,10,1):\n",
    "    print(i)\n"
   ]
  },
  {
   "cell_type": "code",
   "execution_count": 8,
   "id": "5fd0d204",
   "metadata": {},
   "outputs": [
    {
     "name": "stdout",
     "output_type": "stream",
     "text": [
      "0\n",
      "2\n",
      "4\n",
      "6\n",
      "8\n"
     ]
    }
   ],
   "source": [
    "#Question 11-In a for loop, what is the difference between range(10), range(0, 10), and range(0, 10, 1)?\n",
    "#range(0,10,1) - Here the initial value will be 0 and the end value is 10 and 10 won't come into range, it will print upto 9 only \n",
    "#and 1 is the no of steps it will jump from the intial value or a value is added to the intial value and to the result and goes on.  \n",
    "#Here if we change to 2 in place of 1 then it will start skipping 2 steps\n",
    "for i in range(0,10,2):\n",
    "    print(i)\n"
   ]
  },
  {
   "cell_type": "code",
   "execution_count": 9,
   "id": "1db978eb",
   "metadata": {},
   "outputs": [
    {
     "name": "stdout",
     "output_type": "stream",
     "text": [
      "1\n",
      "2\n",
      "3\n",
      "4\n",
      "5\n",
      "6\n",
      "7\n",
      "8\n",
      "9\n",
      "10\n"
     ]
    }
   ],
   "source": [
    "#Question 12 - Write a short program that prints the numbers 1 to 10 using a for loop. Then write an equivalent\n",
    "#program that prints the numbers 1 to 10 using a while loop.\n",
    "#Using for loop\n",
    "for i in range(1,11):\n",
    "    print(i)"
   ]
  },
  {
   "cell_type": "code",
   "execution_count": 10,
   "id": "7961958f",
   "metadata": {},
   "outputs": [
    {
     "name": "stdout",
     "output_type": "stream",
     "text": [
      "1\n",
      "2\n",
      "3\n",
      "4\n",
      "5\n",
      "6\n",
      "7\n",
      "8\n",
      "9\n",
      "10\n"
     ]
    }
   ],
   "source": [
    "#Question 12 - Write a short program that prints the numbers 1 to 10 using a for loop. Then write an equivalent\n",
    "#program that prints the numbers 1 to 10 using a while loop.\n",
    "#Using while loop\n",
    "i=1\n",
    "while i<=10:\n",
    "    print(i)\n",
    "    i = i+1"
   ]
  },
  {
   "cell_type": "code",
   "execution_count": null,
   "id": "e0922467",
   "metadata": {},
   "outputs": [],
   "source": [
    "#Question 13 - If you had a function named bacon() inside a module named spam, how would you call it after\n",
    "#importing spam?\n",
    "#answer: It can be called by spam.bacon()"
   ]
  }
 ],
 "metadata": {
  "kernelspec": {
   "display_name": "Python 3 (ipykernel)",
   "language": "python",
   "name": "python3"
  },
  "language_info": {
   "codemirror_mode": {
    "name": "ipython",
    "version": 3
   },
   "file_extension": ".py",
   "mimetype": "text/x-python",
   "name": "python",
   "nbconvert_exporter": "python",
   "pygments_lexer": "ipython3",
   "version": "3.9.12"
  }
 },
 "nbformat": 4,
 "nbformat_minor": 5
}
