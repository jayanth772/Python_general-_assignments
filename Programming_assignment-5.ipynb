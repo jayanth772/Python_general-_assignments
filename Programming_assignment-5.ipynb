{
 "cells": [
  {
   "cell_type": "code",
   "execution_count": 2,
   "id": "4338ab65",
   "metadata": {},
   "outputs": [],
   "source": [
    "#1. Write a Python Program to Find LCM?"
   ]
  },
  {
   "cell_type": "code",
   "execution_count": 1,
   "id": "cbc9a33c",
   "metadata": {},
   "outputs": [
    {
     "name": "stdout",
     "output_type": "stream",
     "text": [
      "enter n value3\n",
      "enter 0st value:12\n",
      "enter 1st value:18\n",
      "enter 2st value:20\n",
      "The LCM of [12, 18, 20] numbers is 180\n"
     ]
    }
   ],
   "source": [
    "n=int(input('enter n value'))\n",
    "l=[]\n",
    "for i in range(n):\n",
    "    l.append(int(input(f'enter {i}st value:')))\n",
    "m=max(l)\n",
    "while(1):\n",
    "    count=0\n",
    "    for i in l:\n",
    "        if m%i==0:\n",
    "            count=count+1\n",
    "    if count==len(l):\n",
    "        print(f\"The LCM of {l} numbers is {m}\")\n",
    "        break\n",
    "    else:\n",
    "        m=m+1"
   ]
  },
  {
   "cell_type": "code",
   "execution_count": 10,
   "id": "6a5b405a",
   "metadata": {},
   "outputs": [
    {
     "name": "stdout",
     "output_type": "stream",
     "text": [
      "enter n value3\n",
      "enter 0st value:7\n",
      "enter 1st value:13\n",
      "enter 2st value:41\n",
      "The GCD of [7, 13, 41] is 1\n"
     ]
    }
   ],
   "source": [
    "#2. Write a Python Program to Find HCF?\n",
    "n=int(input('enter n value'))\n",
    "l=[]\n",
    "for i in range(n):\n",
    "    l.append(int(input(f'enter {i}st value:')))\n",
    "m=1\n",
    "Gcd=1\n",
    "while m<=min(l):\n",
    "    count=0\n",
    "    for i in l:\n",
    "        if i%m==0:\n",
    "            count=count+1\n",
    "    if count==len(l):\n",
    "        Gcd=m\n",
    "        m=m+1\n",
    "    else:\n",
    "        m=m+1\n",
    "print(f\"The GCD of {l} is {Gcd}\")"
   ]
  },
  {
   "cell_type": "code",
   "execution_count": 16,
   "id": "614d5b35",
   "metadata": {},
   "outputs": [
    {
     "name": "stdout",
     "output_type": "stream",
     "text": [
      "Enter the decimal value123\n",
      "The decimal value is 123\n",
      "0b1111011 in binary.\n",
      "0o173 in octal.\n",
      "0x7b in hexadecimal.\n"
     ]
    }
   ],
   "source": [
    "#3. Write a Python Program to Convert Decimal to Binary, Octal and Hexadecimal?\n",
    "dec = int(input(\"Enter the decimal value\"))\n",
    "\n",
    "print(\"The decimal value is\", dec )\n",
    "print(bin(dec), \"in binary.\")\n",
    "print(oct(dec), \"in octal.\")\n",
    "print(hex(dec), \"in hexadecimal.\")"
   ]
  },
  {
   "cell_type": "code",
   "execution_count": 7,
   "id": "936df35d",
   "metadata": {},
   "outputs": [
    {
     "name": "stdout",
     "output_type": "stream",
     "text": [
      "Enter a character:]\n",
      "Ascii value of ] is 93\n"
     ]
    }
   ],
   "source": [
    "#4. Write a Python Program To Find ASCII value of a character?\n",
    "c=input('Enter a character:')\n",
    "print(f\"Ascii value of {c} is {ord(c)}\")"
   ]
  },
  {
   "cell_type": "code",
   "execution_count": 19,
   "id": "75e2b64f",
   "metadata": {},
   "outputs": [
    {
     "name": "stdout",
     "output_type": "stream",
     "text": [
      "Enter the number a:23\n",
      "Enter the number b:22\n",
      "Choose the operation +,-,*,/*\n",
      "The final value is 506\n"
     ]
    }
   ],
   "source": [
    "#5. Write a Python Program to Make a Simple Calculator with 4 basic mathematical operations?\n",
    "a=int(input(\"Enter the number a:\"))\n",
    "b=int(input(\"Enter the number b:\"))\n",
    "op=input(\"Choose the operation +,-,*,/\")\n",
    "if op=='+':\n",
    "    print(f\"The final value is {a+b}\")\n",
    "elif op=='-':\n",
    "    print(f\"The final value is {a-b}\")\n",
    "elif op=='*':\n",
    "    print(f\"The final value is {a*b}\")\n",
    "elif op=='/':\n",
    "    print(f\"The final value is {a/b}\")"
   ]
  },
  {
   "cell_type": "code",
   "execution_count": null,
   "id": "984a5971",
   "metadata": {},
   "outputs": [],
   "source": []
  }
 ],
 "metadata": {
  "kernelspec": {
   "display_name": "Python 3 (ipykernel)",
   "language": "python",
   "name": "python3"
  },
  "language_info": {
   "codemirror_mode": {
    "name": "ipython",
    "version": 3
   },
   "file_extension": ".py",
   "mimetype": "text/x-python",
   "name": "python",
   "nbconvert_exporter": "python",
   "pygments_lexer": "ipython3",
   "version": "3.9.12"
  }
 },
 "nbformat": 4,
 "nbformat_minor": 5
}
