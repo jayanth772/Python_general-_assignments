{
 "cells": [
  {
   "cell_type": "code",
   "execution_count": 1,
   "id": "89db9dbd",
   "metadata": {},
   "outputs": [
    {
     "name": "stdout",
     "output_type": "stream",
     "text": [
      "enter n value3\n",
      "the fibonaccci numbers are\n",
      "0\n",
      "1\n",
      "1\n"
     ]
    }
   ],
   "source": [
    "#1. Write a Python Program to Display Fibonacci Sequence Using Recursion?\n",
    "def rec(n):\n",
    "    if n<=1:\n",
    "        return(n)\n",
    "    else:\n",
    "        return rec(n-1)+rec(n-2)\n",
    "n=int(input(\"enter n value\"))\n",
    "if n<=1:\n",
    "    print(\"enter the valid number means greater than 1\")\n",
    "else:\n",
    "    print(\"the fibonaccci numbers are\")\n",
    "    for i in range(n):\n",
    "        print(rec(i))"
   ]
  },
  {
   "cell_type": "code",
   "execution_count": 3,
   "id": "11fae47a",
   "metadata": {},
   "outputs": [
    {
     "name": "stdout",
     "output_type": "stream",
     "text": [
      "enter n value5\n",
      "the factorial is  120\n"
     ]
    }
   ],
   "source": [
    "#2. Write a Python Program to Find Factorial of Number Using Recursion?\n",
    "def rec(n):\n",
    "    if n==1:\n",
    "        return n\n",
    "    else:\n",
    "        return n*rec(n-1)\n",
    "n=int(input(\"enter n value\"))\n",
    "if n<=0:\n",
    "    print(\"enter the valid number means greater than 0\")\n",
    "else:\n",
    "    print(\"the factorial is \",rec(n))"
   ]
  },
  {
   "cell_type": "code",
   "execution_count": 6,
   "id": "7f6afa92",
   "metadata": {},
   "outputs": [
    {
     "name": "stdout",
     "output_type": "stream",
     "text": [
      "Enter weight in kg's:88.8\n",
      "Enter height in meter's:1.73\n",
      "Body mass index is 29.67021951952955\n"
     ]
    }
   ],
   "source": [
    "#3. Write a Python Program to calculate your Body Mass Index?\n",
    "kg=float(input(\"Enter weight in kg's:\"))\n",
    "hei=float(input(\"Enter height in meter's:\"))\n",
    "bmi=kg/(hei*hei)\n",
    "print(f\"Body mass index is {bmi}\")"
   ]
  },
  {
   "cell_type": "code",
   "execution_count": 13,
   "id": "e8cdfec0",
   "metadata": {},
   "outputs": [
    {
     "name": "stdout",
     "output_type": "stream",
     "text": [
      "Enter number:14\n",
      "Natural log of 14 number is 2.6390573296152584\n"
     ]
    }
   ],
   "source": [
    "#4. Write a Python Program to calculate the natural logarithm of any number?\n",
    "import math\n",
    "n=int(input(\"Enter number:\"))\n",
    "print(f\"Natural log of {n} number is {math.log(n)}\")"
   ]
  },
  {
   "cell_type": "code",
   "execution_count": 12,
   "id": "dc9e7fa2",
   "metadata": {},
   "outputs": [
    {
     "name": "stdout",
     "output_type": "stream",
     "text": [
      "Enter n value:10\n",
      "Total sum of n natural numbers cube is  3025\n"
     ]
    }
   ],
   "source": [
    "#5. Write a Python Program for cube sum of first n natural numbers?\n",
    "n=int(input(\"Enter n value:\"))\n",
    "sum=0\n",
    "for i in range(1,n+1):\n",
    "    sum=sum+(i*i*i)\n",
    "print(\"Total sum of n natural numbers cube is \",sum)\n",
    "    "
   ]
  },
  {
   "cell_type": "code",
   "execution_count": null,
   "id": "801afd8e",
   "metadata": {},
   "outputs": [],
   "source": []
  }
 ],
 "metadata": {
  "kernelspec": {
   "display_name": "Python 3 (ipykernel)",
   "language": "python",
   "name": "python3"
  },
  "language_info": {
   "codemirror_mode": {
    "name": "ipython",
    "version": 3
   },
   "file_extension": ".py",
   "mimetype": "text/x-python",
   "name": "python",
   "nbconvert_exporter": "python",
   "pygments_lexer": "ipython3",
   "version": "3.9.12"
  }
 },
 "nbformat": 4,
 "nbformat_minor": 5
}
